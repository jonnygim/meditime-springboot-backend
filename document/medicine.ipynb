{
 "cells": [
  {
   "cell_type": "code",
   "execution_count": 86,
   "id": "162a88f3",
   "metadata": {},
   "outputs": [],
   "source": [
    "#!pip3 install pandas\n",
    "#!pip install lxml\n",
    "#!pip install requests\n",
    "#!pip install --upgrade certifi\n",
    "# !pip3 install sqlalchemy\n",
    "# !pip3 install pymysql"
   ]
  },
  {
   "cell_type": "code",
   "execution_count": 88,
   "id": "f8026f33",
   "metadata": {},
   "outputs": [],
   "source": [
    "from bs4 import BeautifulSoup\n",
    "import requests\n",
    "import pandas as pd\n",
    "import ssl\n",
    "import re"
   ]
  },
  {
   "cell_type": "code",
   "execution_count": 89,
   "id": "60ca1b8e",
   "metadata": {},
   "outputs": [],
   "source": [
    "def getMedicine(max_page):\n",
    "    df_medi = pd.DataFrame()\n",
    "    cleanr = re.compile(\"<.*?>\")\n",
    "    for i in range(1, max_page + 1):\n",
    "        url = \"[url주소]?serviceKey=[서비스키]&pageNo=\" + str(i)  \n",
    "        response = requests.get(url, verify=False).text.encode(\"utf-8\")\n",
    "        soup = BeautifulSoup(response, 'lxml-xml')    \n",
    "        items = soup.findAll(\"item\")\n",
    "   \n",
    "        for item in items:\n",
    "            item_name = item.find(\"itemName\").text.replace(\"\\n\", \"\")\n",
    "            entp_name = item.find(\"entpName\").text.replace(\"\\n\", \"\")\n",
    "            item_efcy = re.sub(cleanr, \"\", item.find(\"efcyQesitm\").text).replace(\"\\n\", \"\")\n",
    "            item_use_method = re.sub(cleanr, \"\", item.find(\"useMethodQesitm\").text).replace(\"\\n\", \"\")\n",
    "            item_atpn_warn = re.sub(cleanr, \"\", item.find(\"atpnWarnQesitm\").text).replace(\"\\n\", \"\")\n",
    "            item_atpn = re.sub(cleanr, \"\", item.find(\"atpnQesitm\").text).replace(\"\\n\", \"\")\n",
    "            item_intrc = re.sub(cleanr, \"\", item.find(\"intrcQesitm\").text).replace(\"\\n\", \"\")\n",
    "            item_se = re.sub(cleanr, \"\", item.find(\"seQesitm\").text).replace(\"\\n\", \"\")\n",
    "            item_deposit_method = re.sub(cleanr, \"\", item.find(\"depositMethodQesitm\").text).replace(\"\\n\", \"\")\n",
    "            item_image = item.find(\"itemImage\").text        \n",
    "\n",
    "            temp = pd.DataFrame(([[item_name, entp_name, item_efcy, item_use_method, item_atpn_warn, item_atpn, item_intrc, item_se, item_deposit_method, item_image]]), \n",
    "                    columns = [\"제품명\", \"업체명\", \"효능\", \"사용법\", \"주의사항 경고\", \"주의사항\", \"상호작용\", \"부작용\", \"보관법\", \"낱알이미지\"])\n",
    "\n",
    "            df_medi = pd.concat([df_medi, temp])\n",
    "            df_medi = df_medi.reset_index(drop=True)\n",
    "    return df_medi"
   ]
  },
  {
   "cell_type": "code",
   "execution_count": null,
   "id": "ca7cdc8a",
   "metadata": {},
   "outputs": [],
   "source": [
    "# df = getMedicine(441)"
   ]
  },
  {
   "cell_type": "code",
   "execution_count": null,
   "id": "675578e7",
   "metadata": {},
   "outputs": [],
   "source": []
  },
  {
   "cell_type": "code",
   "execution_count": 23,
   "id": "c5657d54",
   "metadata": {},
   "outputs": [],
   "source": [
    "from sqlalchemy import create_engine\n",
    "import pymysql\n",
    "import sys"
   ]
  },
  {
   "cell_type": "code",
   "execution_count": 12,
   "id": "621f4cfb",
   "metadata": {},
   "outputs": [],
   "source": []
  },
  {
   "cell_type": "code",
   "execution_count": 15,
   "id": "9338c36a",
   "metadata": {},
   "outputs": [],
   "source": [
    "# df.to_csv('./medicine_data.csv', index=False)"
   ]
  },
  {
   "cell_type": "markdown",
   "id": "785e8c32",
   "metadata": {},
   "source": [
    "## 추출한 파일 불러오기"
   ]
  },
  {
   "cell_type": "code",
   "execution_count": 77,
   "id": "abd1483d",
   "metadata": {},
   "outputs": [],
   "source": [
    "df_new = pd.read_csv('./medicine_data.csv')"
   ]
  },
  {
   "cell_type": "code",
   "execution_count": 78,
   "id": "fd71b326",
   "metadata": {},
   "outputs": [],
   "source": [
    "df_new = df_new.fillna(\"없음\")"
   ]
  },
  {
   "cell_type": "code",
   "execution_count": 79,
   "id": "26044caa",
   "metadata": {},
   "outputs": [],
   "source": [
    "is_null = df_new.isnull().sum()"
   ]
  },
  {
   "cell_type": "code",
   "execution_count": 80,
   "id": "0509f06c",
   "metadata": {},
   "outputs": [
    {
     "name": "stdout",
     "output_type": "stream",
     "text": [
      "item_name              0\n",
      "entp_name              0\n",
      "item_efcy              0\n",
      "item_use_method        0\n",
      "item_atpn_warn         0\n",
      "item_atpn              0\n",
      "item_intrc             0\n",
      "item_se                0\n",
      "item_deposit_method    0\n",
      "item_image             0\n",
      "dtype: int64\n"
     ]
    }
   ],
   "source": [
    "print(is_null)"
   ]
  },
  {
   "cell_type": "code",
   "execution_count": 87,
   "id": "e334546d",
   "metadata": {},
   "outputs": [
    {
     "data": {
      "text/html": [
       "<div>\n",
       "<style scoped>\n",
       "    .dataframe tbody tr th:only-of-type {\n",
       "        vertical-align: middle;\n",
       "    }\n",
       "\n",
       "    .dataframe tbody tr th {\n",
       "        vertical-align: top;\n",
       "    }\n",
       "\n",
       "    .dataframe thead th {\n",
       "        text-align: right;\n",
       "    }\n",
       "</style>\n",
       "<table border=\"1\" class=\"dataframe\">\n",
       "  <thead>\n",
       "    <tr style=\"text-align: right;\">\n",
       "      <th></th>\n",
       "      <th>item_name</th>\n",
       "      <th>entp_name</th>\n",
       "      <th>item_efcy</th>\n",
       "      <th>item_use_method</th>\n",
       "      <th>item_atpn_warn</th>\n",
       "      <th>item_atpn</th>\n",
       "      <th>item_intrc</th>\n",
       "      <th>item_se</th>\n",
       "      <th>item_deposit_method</th>\n",
       "      <th>item_image</th>\n",
       "    </tr>\n",
       "  </thead>\n",
       "  <tbody>\n",
       "    <tr>\n",
       "      <th>0</th>\n",
       "      <td>활명수</td>\n",
       "      <td>동화약품(주)</td>\n",
       "      <td>이 약은 식욕감퇴(식욕부진), 위부팽만감, 소화불량, 과식, 체함, 구역, 구토에 ...</td>\n",
       "      <td>만 15세 이상 및 성인은 1회 1병(75 mL), 만 11세이상~만 15세미만은 ...</td>\n",
       "      <td>없음</td>\n",
       "      <td>만 3개월 미만의 젖먹이는 이 약을 복용하지 마십시오.이 약을 복용하기 전에 만 1...</td>\n",
       "      <td>없음</td>\n",
       "      <td>없음</td>\n",
       "      <td>습기와 빛을 피해 실온에서 보관하십시오.어린이의 손이 닿지 않는 곳에 보관하십시오.</td>\n",
       "      <td>없음</td>\n",
       "    </tr>\n",
       "    <tr>\n",
       "      <th>1</th>\n",
       "      <td>신신티눈고(살리실산반창고)(수출명:SINSINCORNPLASTER)</td>\n",
       "      <td>신신제약(주)</td>\n",
       "      <td>이 약은 티눈, 못(굳은살), 사마귀에 사용합니다.</td>\n",
       "      <td>이형지로부터 벗겨 이 약제면을 환부(질환 부위)에 대고 테이프로 고정하고 2~5일마...</td>\n",
       "      <td>없음</td>\n",
       "      <td>이 약에 과민증 환자, 당뇨병, 혈액순환장애 환자는 이 약을 사용하지 마십시오.눈 ...</td>\n",
       "      <td>메토트렉세이트, 설포닐우레아, 다른 국소 적용 약물과 함께 사용 시 의사 또는 약사...</td>\n",
       "      <td>발진, 발적(충혈되어 붉어짐), 홍반(붉은 반점), 가려움, 정상 피부에 닿았을 경...</td>\n",
       "      <td>습기와 빛을 피해 보관하십시오.어린이의 손이 닿지 않는 곳에 보관하십시오.</td>\n",
       "      <td>없음</td>\n",
       "    </tr>\n",
       "    <tr>\n",
       "      <th>2</th>\n",
       "      <td>아네모정</td>\n",
       "      <td>삼진제약(주)</td>\n",
       "      <td>이 약은 위산과다, 속쓰림, 위부불쾌감, 위부팽만감, 체함, 구역, 구토, 위통, ...</td>\n",
       "      <td>성인 1회 2정, 1일 3회 식간(식사와 식사때 사이) 및 취침시에 복용합니다.</td>\n",
       "      <td>없음</td>\n",
       "      <td>투석요법을 받고 있는 환자, 수유부, 만 7세 이하의 어린이, 갈락토오스 불내성, ...</td>\n",
       "      <td>위장진통ㆍ진경제, 테트라사이클린계 항생제와 함께 복용하지 마십시오.</td>\n",
       "      <td>발진, 충혈되어 붉어짐, 가려움, 드물게 입이 마르는 증상, 변비 또는 설사 등이 ...</td>\n",
       "      <td>습기와 빛을 피해 보관하십시오.어린이의 손이 닿지 않는 곳에 보관하십시오.</td>\n",
       "      <td>https://nedrug.mfds.go.kr/pbp/cmn/itemImageDow...</td>\n",
       "    </tr>\n",
       "  </tbody>\n",
       "</table>\n",
       "</div>"
      ],
      "text/plain": [
       "                               item_name entp_name  \\\n",
       "0                                    활명수   동화약품(주)   \n",
       "1  신신티눈고(살리실산반창고)(수출명:SINSINCORNPLASTER)   신신제약(주)   \n",
       "2                                   아네모정   삼진제약(주)   \n",
       "\n",
       "                                           item_efcy  \\\n",
       "0  이 약은 식욕감퇴(식욕부진), 위부팽만감, 소화불량, 과식, 체함, 구역, 구토에 ...   \n",
       "1                      이 약은 티눈, 못(굳은살), 사마귀에 사용합니다.    \n",
       "2  이 약은 위산과다, 속쓰림, 위부불쾌감, 위부팽만감, 체함, 구역, 구토, 위통, ...   \n",
       "\n",
       "                                     item_use_method item_atpn_warn  \\\n",
       "0  만 15세 이상 및 성인은 1회 1병(75 mL), 만 11세이상~만 15세미만은 ...             없음   \n",
       "1  이형지로부터 벗겨 이 약제면을 환부(질환 부위)에 대고 테이프로 고정하고 2~5일마...             없음   \n",
       "2       성인 1회 2정, 1일 3회 식간(식사와 식사때 사이) 및 취침시에 복용합니다.             없음   \n",
       "\n",
       "                                           item_atpn  \\\n",
       "0  만 3개월 미만의 젖먹이는 이 약을 복용하지 마십시오.이 약을 복용하기 전에 만 1...   \n",
       "1  이 약에 과민증 환자, 당뇨병, 혈액순환장애 환자는 이 약을 사용하지 마십시오.눈 ...   \n",
       "2  투석요법을 받고 있는 환자, 수유부, 만 7세 이하의 어린이, 갈락토오스 불내성, ...   \n",
       "\n",
       "                                          item_intrc  \\\n",
       "0                                                 없음   \n",
       "1  메토트렉세이트, 설포닐우레아, 다른 국소 적용 약물과 함께 사용 시 의사 또는 약사...   \n",
       "2              위장진통ㆍ진경제, 테트라사이클린계 항생제와 함께 복용하지 마십시오.   \n",
       "\n",
       "                                             item_se  \\\n",
       "0                                                 없음   \n",
       "1  발진, 발적(충혈되어 붉어짐), 홍반(붉은 반점), 가려움, 정상 피부에 닿았을 경...   \n",
       "2  발진, 충혈되어 붉어짐, 가려움, 드물게 입이 마르는 증상, 변비 또는 설사 등이 ...   \n",
       "\n",
       "                              item_deposit_method  \\\n",
       "0  습기와 빛을 피해 실온에서 보관하십시오.어린이의 손이 닿지 않는 곳에 보관하십시오.   \n",
       "1       습기와 빛을 피해 보관하십시오.어린이의 손이 닿지 않는 곳에 보관하십시오.   \n",
       "2       습기와 빛을 피해 보관하십시오.어린이의 손이 닿지 않는 곳에 보관하십시오.   \n",
       "\n",
       "                                          item_image  \n",
       "0                                                 없음  \n",
       "1                                                 없음  \n",
       "2  https://nedrug.mfds.go.kr/pbp/cmn/itemImageDow...  "
      ]
     },
     "execution_count": 87,
     "metadata": {},
     "output_type": "execute_result"
    }
   ],
   "source": [
    "df_new.head(3)"
   ]
  },
  {
   "cell_type": "code",
   "execution_count": null,
   "id": "1291f3ed",
   "metadata": {},
   "outputs": [],
   "source": []
  },
  {
   "cell_type": "code",
   "execution_count": 85,
   "id": "8a562f31",
   "metadata": {},
   "outputs": [
    {
     "data": {
      "text/plain": [
       "4409"
      ]
     },
     "execution_count": 85,
     "metadata": {},
     "output_type": "execute_result"
    }
   ],
   "source": [
    "db_connection_str = 'mysql+pymysql://[유저명]:[비밀번호]@[주소]:[포트주소]/[데이터베이스이름]?charset=utf8'\n",
    "db_connection = create_engine(db_connection_str, encoding='utf-8')\n",
    "conn = db_connection.connect()\n",
    "df_new.to_sql(name='[데이터베이스명]', con=db_connection, if_exists='append', index=False)"
   ]
  },
  {
   "cell_type": "code",
   "execution_count": null,
   "id": "8a851347",
   "metadata": {},
   "outputs": [],
   "source": [
    "   "
   ]
  }
 ],
 "metadata": {
  "kernelspec": {
   "display_name": "Python 3 (ipykernel)",
   "language": "python",
   "name": "python3"
  },
  "language_info": {
   "codemirror_mode": {
    "name": "ipython",
    "version": 3
   },
   "file_extension": ".py",
   "mimetype": "text/x-python",
   "name": "python",
   "nbconvert_exporter": "python",
   "pygments_lexer": "ipython3",
   "version": "3.11.0"
  }
 },
 "nbformat": 4,
 "nbformat_minor": 5
}
